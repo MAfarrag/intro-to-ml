{
 "cells": [
  {
   "cell_type": "markdown",
   "metadata": {},
   "source": [
    "# MNIST handwritten digits clustering and anomaly detection\n",
    "\n",
    "In this notebook, we'll use unsupervised learning (clustering and anomaly detection) to analyze MNIST digits using scikit-learn.\n",
    "\n",
    "First, the needed imports. "
   ]
  },
  {
   "cell_type": "code",
   "execution_count": null,
   "metadata": {},
   "outputs": [],
   "source": [
    "%matplotlib inline\n",
    "\n",
    "import numpy as np\n",
    "from sklearn import datasets, __version__\n",
    "from sklearn.cluster import KMeans, AgglomerativeClustering\n",
    "from sklearn.ensemble import IsolationForest\n",
    "from sklearn.neighbors import LocalOutlierFactor\n",
    "from sklearn.metrics import adjusted_rand_score\n",
    "\n",
    "import matplotlib.pyplot as plt\n",
    "import seaborn as sns\n",
    "sns.set()\n",
    "\n",
    "from distutils.version import LooseVersion as LV\n",
    "assert(LV(__version__) >= LV(\"0.20\")), \"Version >= 0.20 of sklearn is required.\""
   ]
  },
  {
   "cell_type": "markdown",
   "metadata": {},
   "source": [
    "Then we load the MNIST data. First time it downloads the data, which can take a while.\n",
    "\n",
    "To speed up the computations, let's use only 10000 digits in this notebook."
   ]
  },
  {
   "cell_type": "code",
   "execution_count": null,
   "metadata": {},
   "outputs": [],
   "source": [
    "mnist = datasets.fetch_openml('mnist_784')\n",
    "\n",
    "X = mnist['data'][:10000]\n",
    "y = mnist['target'][:10000]\n",
    "print()\n",
    "print('MNIST data loaded:')\n",
    "print('X:', X.shape)\n",
    "print('y:', y.shape)"
   ]
  },
  {
   "cell_type": "markdown",
   "metadata": {},
   "source": [
    "## Clustering\n",
    "\n",
    "### k-means\n",
    "\n",
    "K-means clusters data by trying to separate samples in *k* groups of equal variance using an iterative two-step algorithm. It requires the number of clusters as a parameter."
   ]
  },
  {
   "cell_type": "code",
   "execution_count": null,
   "metadata": {},
   "outputs": [],
   "source": [
    "%%time\n",
    "\n",
    "n_clusters=10\n",
    "kmeans = KMeans(n_clusters=n_clusters)\n",
    "kmeans.fit(X)"
   ]
  },
  {
   "cell_type": "markdown",
   "metadata": {},
   "source": [
    "The sizes of the clusters:"
   ]
  },
  {
   "cell_type": "code",
   "execution_count": null,
   "metadata": {},
   "outputs": [],
   "source": [
    "plt.hist(kmeans.labels_, bins=range(n_clusters+1), rwidth=0.5)\n",
    "plt.xticks(0.5+np.arange(n_clusters), np.arange(n_clusters))\n",
    "plt.title('Cluster sizes');"
   ]
  },
  {
   "cell_type": "markdown",
   "metadata": {},
   "source": [
    "The k-means centroids are vectors in the same space as the original data, so we can take a look at them:"
   ]
  },
  {
   "cell_type": "code",
   "execution_count": null,
   "metadata": {},
   "outputs": [],
   "source": [
    "plt.figure(figsize=(n_clusters, 1))\n",
    "\n",
    "for i in range(n_clusters):\n",
    "    plt.subplot(1,n_clusters,i+1)\n",
    "    plt.axis('off')\n",
    "    plt.imshow(kmeans.cluster_centers_[i,:].reshape(28,28), cmap=\"gray\")\n",
    "    plt.title(str(i))"
   ]
  },
  {
   "cell_type": "markdown",
   "metadata": {},
   "source": [
    "Let's also draw some digits from each cluster:"
   ]
  },
  {
   "cell_type": "code",
   "execution_count": null,
   "metadata": {},
   "outputs": [],
   "source": [
    "n_img_per_row = 32 # 32*32=1024\n",
    "img = np.zeros((28 * n_clusters, 28 * n_img_per_row))\n",
    "\n",
    "for i in range(n_clusters):\n",
    "    ix = 28 * i\n",
    "    X_cluster = X[kmeans.labels_==i,:]\n",
    "    try:\n",
    "        for j in range(n_img_per_row):    \n",
    "            iy = 28 * j\n",
    "            img[ix:ix + 28, iy:iy + 28] = X_cluster[i * n_img_per_row + j,:].reshape(28,28)\n",
    "    except IndexError:\n",
    "        pass\n",
    "\n",
    "plt.figure(figsize=(12, 12))\n",
    "plt.imshow(img, cmap='gray')\n",
    "plt.title('Some MNIST digits from each k-means cluster')\n",
    "plt.xticks([])\n",
    "plt.yticks([])\n",
    "plt.ylabel('clusters');"
   ]
  },
  {
   "cell_type": "markdown",
   "metadata": {},
   "source": [
    "#### Evaluation\n",
    "\n",
    "Since we know the correct labels for MNIST digits, we can evaluate the quality of the clustering."
   ]
  },
  {
   "cell_type": "code",
   "execution_count": null,
   "metadata": {},
   "outputs": [],
   "source": [
    "print(\"Adjusted Rand index: %.3f\"\n",
    "      % adjusted_rand_score(y, kmeans.labels_))"
   ]
  },
  {
   "cell_type": "markdown",
   "metadata": {},
   "source": [
    "### Hierarchical clustering\n",
    "\n",
    "Hierarchical clustering is a family of clustering algorithms that build nested clusters by merging or splitting them successively.\n",
    "\n",
    "The `linkage` criteria determines the metric used for the merge strategy:\n",
    "* `ward` minimizes the sum of squared differences within all clusters\n",
    "* `complete` linkage minimizes the maximum distance between observations of pairs of clusters\n",
    "* `average` linkage minimizes the average of the distances between all observations of pairs of clusters\n",
    "* `single` linkage minimizes the distance between the closest observations of pairs of clusters"
   ]
  },
  {
   "cell_type": "code",
   "execution_count": null,
   "metadata": {},
   "outputs": [],
   "source": [
    "%%time\n",
    "\n",
    "n_clusters=10\n",
    "linkage = \"ward\"\n",
    "hclust = AgglomerativeClustering(n_clusters=n_clusters, linkage=linkage)\n",
    "hclust.fit(X)"
   ]
  },
  {
   "cell_type": "markdown",
   "metadata": {},
   "source": [
    "The sizes of the clusters:"
   ]
  },
  {
   "cell_type": "code",
   "execution_count": null,
   "metadata": {},
   "outputs": [],
   "source": [
    "plt.hist(hclust.labels_, bins=range(n_clusters+1), rwidth=0.5)\n",
    "plt.xticks(0.5+np.arange(n_clusters), np.arange(n_clusters))\n",
    "plt.title('Cluster sizes');"
   ]
  },
  {
   "cell_type": "markdown",
   "metadata": {},
   "source": [
    "Some digits from each cluster:"
   ]
  },
  {
   "cell_type": "code",
   "execution_count": null,
   "metadata": {},
   "outputs": [],
   "source": [
    "n_img_per_row = 32 # 32*32=1024\n",
    "img = np.zeros((28 * n_clusters, 28 * n_img_per_row))\n",
    "\n",
    "for i in range(n_clusters):\n",
    "    ix = 28 * i\n",
    "    X_cluster = X[hclust.labels_==i,:]\n",
    "    try:\n",
    "        for j in range(n_img_per_row):    \n",
    "            iy = 28 * j\n",
    "            img[ix:ix + 28, iy:iy + 28] = X_cluster[i * n_img_per_row + j,:].reshape(28,28)\n",
    "    except IndexError:\n",
    "        pass\n",
    "            \n",
    "plt.figure(figsize=(12, 12))\n",
    "plt.imshow(img, cmap='gray')\n",
    "plt.title('Some MNIST digits from hierarchical clustering with {} linkage'.format(linkage))\n",
    "plt.xticks([])\n",
    "plt.yticks([])\n",
    "plt.ylabel('clusters');"
   ]
  },
  {
   "cell_type": "markdown",
   "metadata": {},
   "source": [
    "#### Evaluation"
   ]
  },
  {
   "cell_type": "code",
   "execution_count": null,
   "metadata": {},
   "outputs": [],
   "source": [
    "print(\"Adjusted Rand index: %.3f\"\n",
    "      % adjusted_rand_score(y, hclust.labels_))"
   ]
  },
  {
   "cell_type": "markdown",
   "metadata": {},
   "source": [
    "## Anomaly detection\n",
    "### Isolation forest"
   ]
  },
  {
   "cell_type": "code",
   "execution_count": null,
   "metadata": {},
   "outputs": [],
   "source": [
    "%%time\n",
    "\n",
    "isofor = IsolationForest(contamination=0.01, behaviour='new')\n",
    "predictions = isofor.fit(X).predict(X)\n",
    "print('Number of anomalies:', np.sum(predictions==-1))"
   ]
  },
  {
   "cell_type": "code",
   "execution_count": null,
   "metadata": {},
   "outputs": [],
   "source": [
    "n_img_per_row = 32 # 32*32=1024\n",
    "img = np.zeros((28 * 2, 28 * n_img_per_row))\n",
    "anolabels = [-1, 1]\n",
    "\n",
    "for i in range(2):\n",
    "    ix = 28 * i\n",
    "    X_ano = X[predictions==anolabels[i], :]\n",
    "    try:\n",
    "        for j in range(n_img_per_row):    \n",
    "            iy = 28 * j\n",
    "            img[ix:ix + 28, iy:iy + 28] = X_ano[i * n_img_per_row + j,:].reshape(28,28)\n",
    "    except IndexError:\n",
    "        pass\n",
    "            \n",
    "plt.figure(figsize=(12, 12))\n",
    "plt.imshow(img, cmap='gray')\n",
    "plt.title('Examples of anomalies (upper row) and normal data (lower row)')\n",
    "plt.xticks([])\n",
    "plt.yticks([]);"
   ]
  },
  {
   "cell_type": "markdown",
   "metadata": {},
   "source": [
    "### Local outlier factor"
   ]
  },
  {
   "cell_type": "code",
   "execution_count": null,
   "metadata": {},
   "outputs": [],
   "source": [
    "%%time\n",
    "\n",
    "lof= IsolationForest(contamination=0.01, behaviour=\"new\")\n",
    "predictions = lof.fit_predict(X)\n",
    "print('Number of anomalies:', np.sum(predictions==-1))"
   ]
  },
  {
   "cell_type": "code",
   "execution_count": null,
   "metadata": {},
   "outputs": [],
   "source": [
    "n_img_per_row = 32 # 32*32=1024\n",
    "img = np.zeros((28 * 2, 28 * n_img_per_row))\n",
    "anolabels = [-1, 1]\n",
    "\n",
    "for i in range(2):\n",
    "    ix = 28 * i\n",
    "    X_ano = X[predictions==anolabels[i], :]\n",
    "    try:\n",
    "        for j in range(n_img_per_row):    \n",
    "            iy = 28 * j\n",
    "            img[ix:ix + 28, iy:iy + 28] = X_ano[i * n_img_per_row + j,:].reshape(28,28)\n",
    "    except IndexError:\n",
    "        pass\n",
    "            \n",
    "plt.figure(figsize=(12, 12))\n",
    "plt.imshow(img, cmap='gray')\n",
    "plt.title('Examples of anomalies (upper row) and normal data (lower row)')\n",
    "plt.xticks([])\n",
    "plt.yticks([]);"
   ]
  },
  {
   "cell_type": "code",
   "execution_count": null,
   "metadata": {},
   "outputs": [],
   "source": []
  }
 ],
 "metadata": {
  "kernelspec": {
   "display_name": "Python 3",
   "language": "python",
   "name": "python3"
  },
  "language_info": {
   "codemirror_mode": {
    "name": "ipython",
    "version": 3
   },
   "file_extension": ".py",
   "mimetype": "text/x-python",
   "name": "python",
   "nbconvert_exporter": "python",
   "pygments_lexer": "ipython3",
   "version": "3.5.2"
  }
 },
 "nbformat": 4,
 "nbformat_minor": 2
}
